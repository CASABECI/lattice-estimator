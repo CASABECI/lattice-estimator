{
 "cells": [
  {
   "cell_type": "markdown",
   "id": "d8b2741e",
   "metadata": {},
   "source": [
    "Notebook created: 2022-01-21 11:15:36  \n",
    "Generated from: docs/algorithms/lwe-dual.rst  "
   ]
  },
  {
   "cell_type": "markdown",
   "id": "8d3eb89d",
   "metadata": {},
   "source": [
    "\n",
    "<a id='lwe-dual-attacks'></a>"
   ]
  },
  {
   "cell_type": "markdown",
   "id": "04c3b4ec",
   "metadata": {},
   "source": [
    "# LWE Dual Attacks\n",
    "\n",
    "We construct an (easy) example LWE instance:"
   ]
  },
  {
   "cell_type": "code",
   "execution_count": null,
   "id": "a2b30932",
   "metadata": {
    "hide-output": false
   },
   "outputs": [],
   "source": [
    "from estimator import *\n",
    "params = LWE.Parameters(n=200, q=7981, Xs=ND.SparseTernary(384, 16), Xe=ND.CenteredBinomial(4))\n",
    "params"
   ]
  },
  {
   "cell_type": "markdown",
   "id": "e9e92751",
   "metadata": {},
   "source": [
    "The simples (and quickest to estimate) algorithm is the “plain” dual attack as described in [[PQCBook:MicReg09]](../references.ipynb#pqcbook-micreg09):"
   ]
  },
  {
   "cell_type": "code",
   "execution_count": null,
   "id": "7d8538b5",
   "metadata": {
    "hide-output": false
   },
   "outputs": [],
   "source": [
    "LWE.dual(params)"
   ]
  },
  {
   "cell_type": "markdown",
   "id": "c737661f",
   "metadata": {},
   "source": [
    "We can improve these results by considering a dual hybrid attack as in [EC:Albrecht17,INDOCRYPT:EspJouKha20]_:"
   ]
  },
  {
   "cell_type": "code",
   "execution_count": null,
   "id": "62bb0c3f",
   "metadata": {
    "hide-output": false
   },
   "outputs": [],
   "source": [
    "LWE.dual_hybrid(params)"
   ]
  },
  {
   "cell_type": "markdown",
   "id": "dbc44abd",
   "metadata": {},
   "source": [
    "Further improvements are possible using a meet-in-the-middle approach [[EPRINT:CHHS19]](../references.ipynb#eprint-chhs19):"
   ]
  },
  {
   "cell_type": "code",
   "execution_count": null,
   "id": "eb082a20",
   "metadata": {
    "hide-output": false
   },
   "outputs": [],
   "source": [
    "LWE.dual_hybrid(params, mitm_optimization=True)"
   ]
  }
 ],
 "metadata": {
  "date": 1642763736.30318,
  "filename": "lwe-dual.rst",
  "kernelspec": {
   "display_name": "SageMath",
   "language": "sage",
   "name": "sagemath"
  },
  "title": "LWE Dual Attacks"
 },
 "nbformat": 4,
 "nbformat_minor": 5
}