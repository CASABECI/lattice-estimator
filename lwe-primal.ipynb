{
 "cells": [
  {
   "cell_type": "markdown",
   "id": "ce44dd7c",
   "metadata": {},
   "source": [
    "Notebook created: 2021-11-06 18:25:36  \n",
    "Generated from: doc/lwe-primal.rst  "
   ]
  },
  {
   "cell_type": "markdown",
   "id": "349eb554",
   "metadata": {},
   "source": [
    "\n",
    "<a id='lwe-primal-attacks'></a>"
   ]
  },
  {
   "cell_type": "markdown",
   "id": "eee98f18",
   "metadata": {},
   "source": [
    "# LWE Primal Attacks\n",
    "\n",
    "We construct an (easy) example LWE instance:"
   ]
  },
  {
   "cell_type": "code",
   "execution_count": null,
   "id": "fc9dc7da",
   "metadata": {
    "hide-output": false
   },
   "outputs": [],
   "source": [
    "from estimator import *\n",
    "params = LWEParameters(n=200, q=7981, Xs=ND.SparseTernary(384, 16), Xe=ND.CenteredBinomial(4))\n",
    "params"
   ]
  },
  {
   "cell_type": "markdown",
   "id": "4f801d5e",
   "metadata": {},
   "source": [
    "The simplest (and quickest to estimate) model is solving via uSVP and assuming the Geometric Series\n",
    "Assumption (GSA):"
   ]
  },
  {
   "cell_type": "code",
   "execution_count": null,
   "id": "d9fe0c01",
   "metadata": {
    "hide-output": false
   },
   "outputs": [],
   "source": [
    "primal_usvp(params, red_shape_model=\"gsa\")"
   ]
  },
  {
   "cell_type": "markdown",
   "id": "c4d7cecc",
   "metadata": {},
   "source": [
    "We get a similar result if we use the `GSA` simulator. We do not get the identical result because\n",
    "we optimize β and d separately:"
   ]
  },
  {
   "cell_type": "code",
   "execution_count": null,
   "id": "4db01036",
   "metadata": {
    "hide-output": false
   },
   "outputs": [],
   "source": [
    "primal_usvp(params, red_shape_model=Simulator.GSA)"
   ]
  },
  {
   "cell_type": "markdown",
   "id": "492fa07b",
   "metadata": {},
   "source": [
    "To get a more precise answer we may use the CN11 simulator by Chen and Nguyen (as implemented in FPLLL):"
   ]
  },
  {
   "cell_type": "code",
   "execution_count": null,
   "id": "b2f268fd",
   "metadata": {
    "hide-output": false
   },
   "outputs": [],
   "source": [
    "primal_usvp(params, red_shape_model=Simulator.CN11)"
   ]
  },
  {
   "cell_type": "markdown",
   "id": "e39f60d4",
   "metadata": {},
   "source": [
    "We can then improve on this result by first preprocessing the basis with blocksize β followed by a\n",
    "single SVP call in dimension η. We call this the BDD approach since this is essentially the same\n",
    "strategy as preprocessing a basis and then running a CVP solver:"
   ]
  },
  {
   "cell_type": "code",
   "execution_count": null,
   "id": "38c24e61",
   "metadata": {
    "hide-output": false
   },
   "outputs": [],
   "source": [
    "primal_bdd(params, red_shape_model=Simulator.CN11)"
   ]
  },
  {
   "cell_type": "markdown",
   "id": "ef472ca2",
   "metadata": {},
   "source": [
    "We can improve these results further by exploiting the sparse secret in the hybrid attack, guessing ζ\n",
    "positions of the secret:"
   ]
  },
  {
   "cell_type": "code",
   "execution_count": null,
   "id": "e8ee827e",
   "metadata": {
    "hide-output": false
   },
   "outputs": [],
   "source": [
    "primal_hybrid(params, red_shape_model=Simulator.CN11)"
   ]
  }
 ],
 "metadata": {
  "date": 1636223136.1608996,
  "filename": "lwe-primal.rst",
  "kernelspec": {
   "display_name": "SageMath",
   "language": "sage",
   "name": "sagemath"
  },
  "title": "LWE Primal Attacks"
 },
 "nbformat": 4,
 "nbformat_minor": 5
}