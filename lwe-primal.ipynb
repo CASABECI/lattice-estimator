{
 "cells": [
  {
   "cell_type": "markdown",
   "id": "92a03b99",
   "metadata": {},
   "source": [
    "Notebook created: 2021-11-07 23:18:03  \n",
    "Generated from: doc/lwe-primal.rst  "
   ]
  },
  {
   "cell_type": "markdown",
   "id": "eb920461",
   "metadata": {},
   "source": [
    "\n",
    "<a id='lwe-primal-attacks'></a>"
   ]
  },
  {
   "cell_type": "markdown",
   "id": "0e6b4519",
   "metadata": {},
   "source": [
    "# LWE Primal Attacks\n",
    "\n",
    "We construct an (easy) example LWE instance:"
   ]
  },
  {
   "cell_type": "code",
   "execution_count": null,
   "id": "8056c20c",
   "metadata": {
    "hide-output": false
   },
   "outputs": [],
   "source": [
    "from estimator import *\n",
    "params = LWEParameters(n=200, q=7981, Xs=ND.SparseTernary(384, 16), Xe=ND.CenteredBinomial(4))\n",
    "params"
   ]
  },
  {
   "cell_type": "markdown",
   "id": "eb973bec",
   "metadata": {},
   "source": [
    "The simplest (and quickest to estimate) model is solving via uSVP and assuming the Geometric Series\n",
    "Assumption (GSA) [[Schnorr03]](_apidoc/estimator.simulator/estimator.simulator.GSA#schnorr03). The success condition was formulated in [[USENIX:ADPS16]](_apidoc/estimator.lwe_primal/estimator.lwe_primal.PrimalUSVP#usenix-adps16) and\n",
    "studied/verified in [[AC:AGVW17]](_apidoc/estimator.lwe_primal/estimator.lwe_primal.PrimalUSVP#ac-agvw17), [[C:DDGR20]](_apidoc/estimator.lwe_primal/estimator.lwe_primal.PrimalUSVP#c-ddgr20), [[PKC:PosVir21]](_apidoc/estimator.lwe_primal/estimator.lwe_primal.PrimalUSVP#pkc-posvir21). The treatment of small secrets is\n",
    "from [[ACISP:BaiGal14]](_apidoc/estimator.lwe_primal/estimator.lwe_primal.PrimalUSVP#acisp-baigal14):"
   ]
  },
  {
   "cell_type": "code",
   "execution_count": null,
   "id": "08cab917",
   "metadata": {
    "hide-output": false
   },
   "outputs": [],
   "source": [
    "primal_usvp(params, red_shape_model=\"gsa\")"
   ]
  },
  {
   "cell_type": "markdown",
   "id": "a33d3529",
   "metadata": {},
   "source": [
    "We get a similar result if we use the `GSA` simulator. We do not get the identical result because\n",
    "we optimize β and d separately:"
   ]
  },
  {
   "cell_type": "code",
   "execution_count": null,
   "id": "8c435d71",
   "metadata": {
    "hide-output": false
   },
   "outputs": [],
   "source": [
    "primal_usvp(params, red_shape_model=Simulator.GSA)"
   ]
  },
  {
   "cell_type": "markdown",
   "id": "1a2fab91",
   "metadata": {},
   "source": [
    "To get a more precise answer we may use the CN11 simulator by Chen and Nguyen [[AC:CheNgu11]](_apidoc/estimator.reduction/estimator.reduction.LLL#ac-chengu11) (as\n",
    "implemented in FPyLLL\n",
    "<https://github.com/fplll/fpylll/blob/master/src/fpylll/tools/bkz_simulator.py>_):"
   ]
  },
  {
   "cell_type": "code",
   "execution_count": null,
   "id": "372fe27e",
   "metadata": {
    "hide-output": false
   },
   "outputs": [],
   "source": [
    "primal_usvp(params, red_shape_model=Simulator.CN11)"
   ]
  },
  {
   "cell_type": "markdown",
   "id": "d07366f1",
   "metadata": {},
   "source": [
    "We can then improve on this result by first preprocessing the basis with blocksize β followed by a\n",
    "single SVP call in dimension η [[RSA:LiuNgu13]](_apidoc/estimator.lwe_primal/estimator.lwe_primal.PrimalHybrid#rsa-liungu13). We call this the BDD approach since this is\n",
    "essentially the same strategy as preprocessing a basis and then running a CVP solver:"
   ]
  },
  {
   "cell_type": "code",
   "execution_count": null,
   "id": "18acc8ec",
   "metadata": {
    "hide-output": false
   },
   "outputs": [],
   "source": [
    "primal_bdd(params, red_shape_model=Simulator.CN11)"
   ]
  },
  {
   "cell_type": "markdown",
   "id": "ffc780e0",
   "metadata": {},
   "source": [
    "We can improve these results further by exploiting the sparse secret in the hybrid attack\n",
    "[[C:HowgraveGraham07]](_apidoc/estimator.lwe_primal/estimator.lwe_primal.PrimalHybrid#c-howgravegraham07) guessing ζ positions of the secret:"
   ]
  },
  {
   "cell_type": "code",
   "execution_count": null,
   "id": "a4ebfb61",
   "metadata": {
    "hide-output": false
   },
   "outputs": [],
   "source": [
    "primal_hybrid(params, red_shape_model=Simulator.CN11)"
   ]
  }
 ],
 "metadata": {
  "date": 1636327083.5669103,
  "filename": "lwe-primal.rst",
  "kernelspec": {
   "display_name": "SageMath",
   "language": "sage",
   "name": "sagemath"
  },
  "title": "LWE Primal Attacks"
 },
 "nbformat": 4,
 "nbformat_minor": 5
}