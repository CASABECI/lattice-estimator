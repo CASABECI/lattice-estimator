{
 "cells": [
  {
   "cell_type": "markdown",
   "id": "363c4a45",
   "metadata": {},
   "source": [
    "Notebook created: 2021-11-08 14:26:48  \n",
    "Generated from: docs/algorithms/lwe-primal.rst  "
   ]
  },
  {
   "cell_type": "markdown",
   "id": "429c6d1b",
   "metadata": {},
   "source": [
    "\n",
    "<a id='lwe-primal-attacks'></a>"
   ]
  },
  {
   "cell_type": "markdown",
   "id": "86e61139",
   "metadata": {},
   "source": [
    "# LWE Primal Attacks\n",
    "\n",
    "We construct an (easy) example LWE instance:"
   ]
  },
  {
   "cell_type": "code",
   "execution_count": null,
   "id": "f4aad172",
   "metadata": {
    "hide-output": false
   },
   "outputs": [],
   "source": [
    "from estimator import *\n",
    "params = LWEParameters(n=200, q=7981, Xs=ND.SparseTernary(384, 16), Xe=ND.CenteredBinomial(4))\n",
    "params"
   ]
  },
  {
   "cell_type": "markdown",
   "id": "4e070cbb",
   "metadata": {},
   "source": [
    "The simplest (and quickest to estimate) model is solving via uSVP and assuming the Geometric Series\n",
    "Assumption (GSA) [[Schnorr03]](../_apidoc/estimator.simulator/estimator.simulator.GSA.ipynb#schnorr03). The success condition was formulated in [[USENIX:ADPS16]](../_apidoc/estimator.lwe_primal/estimator.lwe_primal.PrimalUSVP.ipynb#usenix-adps16) and\n",
    "studied/verified in [[AC:AGVW17]](../_apidoc/estimator.lwe_primal/estimator.lwe_primal.PrimalUSVP.ipynb#ac-agvw17), [[C:DDGR20]](../_apidoc/estimator.lwe_primal/estimator.lwe_primal.PrimalUSVP.ipynb#c-ddgr20), [[PKC:PosVir21]](../_apidoc/estimator.lwe_primal/estimator.lwe_primal.PrimalUSVP.ipynb#pkc-posvir21). The treatment of small secrets is\n",
    "from [[ACISP:BaiGal14]](../_apidoc/estimator.lwe_primal/estimator.lwe_primal.PrimalUSVP.ipynb#acisp-baigal14):"
   ]
  },
  {
   "cell_type": "code",
   "execution_count": null,
   "id": "e5837939",
   "metadata": {
    "hide-output": false
   },
   "outputs": [],
   "source": [
    "primal_usvp(params, red_shape_model=\"gsa\")"
   ]
  },
  {
   "cell_type": "markdown",
   "id": "bf669c33",
   "metadata": {},
   "source": [
    "We get a similar result if we use the `GSA` simulator. We do not get the identical result because\n",
    "we optimize β and d separately:"
   ]
  },
  {
   "cell_type": "code",
   "execution_count": null,
   "id": "c16887f3",
   "metadata": {
    "hide-output": false
   },
   "outputs": [],
   "source": [
    "primal_usvp(params, red_shape_model=Simulator.GSA)"
   ]
  },
  {
   "cell_type": "markdown",
   "id": "96f8e645",
   "metadata": {},
   "source": [
    "To get a more precise answer we may use the CN11 simulator by Chen and Nguyen [[AC:CheNgu11]](../_apidoc/estimator.reduction/estimator.reduction.LLL.ipynb#ac-chengu11) (as\n",
    "implemented in FPyLLL\n",
    "<https://github.com/fplll/fpylll/blob/master/src/fpylll/tools/bkz_simulator.py>_):"
   ]
  },
  {
   "cell_type": "code",
   "execution_count": null,
   "id": "668ea0f7",
   "metadata": {
    "hide-output": false
   },
   "outputs": [],
   "source": [
    "primal_usvp(params, red_shape_model=Simulator.CN11)"
   ]
  },
  {
   "cell_type": "markdown",
   "id": "07eda151",
   "metadata": {},
   "source": [
    "We can then improve on this result by first preprocessing the basis with blocksize β followed by a\n",
    "single SVP call in dimension η [[RSA:LiuNgu13]](../_apidoc/estimator.lwe_primal/estimator.lwe_primal.PrimalHybrid.ipynb#rsa-liungu13). We call this the BDD approach since this is\n",
    "essentially the same strategy as preprocessing a basis and then running a CVP solver:"
   ]
  },
  {
   "cell_type": "code",
   "execution_count": null,
   "id": "df1efc63",
   "metadata": {
    "hide-output": false
   },
   "outputs": [],
   "source": [
    "primal_bdd(params, red_shape_model=Simulator.CN11)"
   ]
  },
  {
   "cell_type": "markdown",
   "id": "17d864ca",
   "metadata": {},
   "source": [
    "We can improve these results further by exploiting the sparse secret in the hybrid attack\n",
    "[[C:HowgraveGraham07]](../_apidoc/estimator.lwe_primal/estimator.lwe_primal.PrimalHybrid.ipynb#c-howgravegraham07) guessing ζ positions of the secret:"
   ]
  },
  {
   "cell_type": "code",
   "execution_count": null,
   "id": "9352fdb5",
   "metadata": {
    "hide-output": false
   },
   "outputs": [],
   "source": [
    "primal_hybrid(params, red_shape_model=Simulator.CN11)"
   ]
  }
 ],
 "metadata": {
  "date": 1636381608.6188416,
  "filename": "lwe-primal.rst",
  "kernelspec": {
   "display_name": "SageMath",
   "language": "sage",
   "name": "sagemath"
  },
  "title": "LWE Primal Attacks"
 },
 "nbformat": 4,
 "nbformat_minor": 5
}