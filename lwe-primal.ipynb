{
 "cells": [
  {
   "cell_type": "markdown",
   "id": "b88775e6",
   "metadata": {},
   "source": [
    "Notebook created: 2021-11-06 16:06:10  \n",
    "Generated from: doc/lwe-primal.rst  "
   ]
  },
  {
   "cell_type": "markdown",
   "id": "8ed7edf1",
   "metadata": {},
   "source": [
    "\n",
    "<a id='lwe-primal-attacks'></a>"
   ]
  },
  {
   "cell_type": "markdown",
   "id": "87b737ca",
   "metadata": {},
   "source": [
    "# LWE Primal Attacks\n",
    "\n",
    "We construct an (easy) example LWE instance:"
   ]
  },
  {
   "cell_type": "code",
   "execution_count": null,
   "id": "7af526e2",
   "metadata": {
    "hide-output": false
   },
   "outputs": [],
   "source": [
    ">>> from estimator import *\n",
    ">>> params = LWEParameters(n=200, q=7981, Xs=ND.SparseTernary(384, 16), Xe=ND.CenteredBinomial(4))\n",
    ">>> params\n",
    "LWEParameters(n=200, q=7981, Xs=D(σ=0.29), Xe=D(σ=1.41), m=+Infinity, tag=None)"
   ]
  },
  {
   "cell_type": "markdown",
   "id": "87f78177",
   "metadata": {},
   "source": [
    "The simplest (and quickest to estimate) model is solving via uSVP and assuming the Geometric Series\n",
    "Assumption (GSA):"
   ]
  },
  {
   "cell_type": "code",
   "execution_count": null,
   "id": "e82443c1",
   "metadata": {
    "hide-output": false
   },
   "outputs": [],
   "source": [
    ">>> primal_usvp(params, red_shape_model=\"gsa\")\n",
    "rop: ≈2^53.3, red: ≈2^53.3, δ: 1.010838, β: 70, d: 362, tag: usvp"
   ]
  },
  {
   "cell_type": "markdown",
   "id": "9868cdcc",
   "metadata": {},
   "source": [
    "We get a similar result if we use the `GSA` simulator. We do not get the identical result because\n",
    "we optimize β and d separately:"
   ]
  },
  {
   "cell_type": "code",
   "execution_count": null,
   "id": "2b2dc611",
   "metadata": {
    "hide-output": false
   },
   "outputs": [],
   "source": [
    ">>> primal_usvp(params, red_shape_model=Simulator.GSA)\n",
    "rop: ≈2^53.7, red: ≈2^53.7, δ: 1.010720, β: 72, d: 331, tag: usvp"
   ]
  },
  {
   "cell_type": "markdown",
   "id": "c8d77167",
   "metadata": {},
   "source": [
    "To get a more precise answer we may use the CN11 simulator by Chen and Nguyen (as implemented in FPLLL):"
   ]
  },
  {
   "cell_type": "code",
   "execution_count": null,
   "id": "1e101073",
   "metadata": {
    "hide-output": false
   },
   "outputs": [],
   "source": [
    ">>> primal_usvp(params, red_shape_model=Simulator.CN11)\n",
    "rop: ≈2^53.6, red: ≈2^53.6, δ: 1.010779, β: 71, d: 358, tag: usvp"
   ]
  },
  {
   "cell_type": "markdown",
   "id": "3e841bbc",
   "metadata": {},
   "source": [
    "We can then improve on this result by first preprocessing the basis with blocksize β followed by a\n",
    "single SVP call in dimension η. We call this the BDD approach since this is essentially the same\n",
    "strategy as preprocessing a basis and then running a CVP solver:"
   ]
  },
  {
   "cell_type": "code",
   "execution_count": null,
   "id": "43482410",
   "metadata": {
    "hide-output": false
   },
   "outputs": [],
   "source": [
    ">>> primal_bdd(params, red_shape_model=Simulator.CN11)\n",
    "rop: ≈2^51.5, red: ≈2^49.9, svp: ≈2^51.0, β: 58, η: 91, d: 345, tag: bdd"
   ]
  },
  {
   "cell_type": "markdown",
   "id": "77900570",
   "metadata": {},
   "source": [
    "We can improve these results further by exploiting the sparse secret in the hybrid attack, guessing ζ\n",
    "positions of the secret:"
   ]
  },
  {
   "cell_type": "code",
   "execution_count": null,
   "id": "17a4de5b",
   "metadata": {
    "hide-output": false
   },
   "outputs": [],
   "source": [
    ">>> primal_hybrid(params, red_shape_model=Simulator.CN11)\n",
    "rop: ≈2^45.9, red: ≈2^45.5, svp: ≈2^43.8, β: 40, η: 2, ζ: 62, |S|: ≈2^43.4, d: 313, prob: 0.988, ..."
   ]
  }
 ],
 "metadata": {
  "date": 1636214770.6990995,
  "filename": "lwe-primal.rst",
  "kernelspec": {
   "display_name": "SageMath",
   "language": "sage",
   "name": "sagemath"
  },
  "title": "LWE Primal Attacks"
 },
 "nbformat": 4,
 "nbformat_minor": 5
}