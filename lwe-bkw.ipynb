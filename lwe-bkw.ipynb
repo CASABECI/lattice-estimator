{
 "cells": [
  {
   "cell_type": "markdown",
   "id": "a0246644",
   "metadata": {},
   "source": [
    "Notebook created: 2022-05-02 09:34:51  \n",
    "Generated from: docs/algorithms/lwe-bkw.rst  "
   ]
  },
  {
   "cell_type": "markdown",
   "id": "52fd1de2",
   "metadata": {},
   "source": [
    "\n",
    "<a id='coded-bkw-for-lwe'></a>"
   ]
  },
  {
   "cell_type": "markdown",
   "id": "c1412a84",
   "metadata": {},
   "source": [
    "# Coded-BKW for LWE\n",
    "\n",
    "We construct an example LWE instance:"
   ]
  },
  {
   "cell_type": "code",
   "execution_count": null,
   "id": "604b01fa",
   "metadata": {
    "hide-output": false
   },
   "outputs": [],
   "source": [
    "from estimator import *\n",
    "params = LWE.Parameters(n=400, q=7981, Xs=ND.SparseTernary(384, 16), Xe=ND.CenteredBinomial(4), m=800)\n",
    "params"
   ]
  },
  {
   "cell_type": "markdown",
   "id": "326f0c92",
   "metadata": {},
   "source": [
    "and estimate the cost of Coded-BKW [[C:GuoJohSta15]](../references.ipynb#c-guojohsta15), [[C:KirFou15]](../references.ipynb#c-kirfou15):"
   ]
  },
  {
   "cell_type": "code",
   "execution_count": null,
   "id": "ebaeb32e",
   "metadata": {
    "hide-output": false
   },
   "outputs": [],
   "source": [
    "lwe.coded_bkw(params)"
   ]
  },
  {
   "cell_type": "markdown",
   "id": "a4275329",
   "metadata": {},
   "source": [
    "All BKW variants require *a lot* of samples. As called above, the algorithm will produce the required samples from what it is given, which increases the noise. Let’s pretend we have as many as we like:"
   ]
  },
  {
   "cell_type": "code",
   "execution_count": null,
   "id": "9aa56af3",
   "metadata": {
    "hide-output": false
   },
   "outputs": [],
   "source": [
    "lwe.coded_bkw(params.updated(m=2**100))"
   ]
  }
 ],
 "metadata": {
  "date": 1651484091.7451935,
  "filename": "lwe-bkw.rst",
  "kernelspec": {
   "display_name": "SageMath",
   "language": "sage",
   "name": "sagemath"
  },
  "title": "Coded-BKW for LWE"
 },
 "nbformat": 4,
 "nbformat_minor": 5
}