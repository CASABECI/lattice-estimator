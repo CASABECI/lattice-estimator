{
 "cells": [
  {
   "cell_type": "markdown",
   "id": "b55edfaa",
   "metadata": {},
   "source": [
    "Notebook created: 2021-12-13 17:00:46  \n",
    "Generated from: docs/algorithms/lwe-bkw.rst  "
   ]
  },
  {
   "cell_type": "markdown",
   "id": "dd8e2c83",
   "metadata": {},
   "source": [
    "\n",
    "<a id='coded-bkw-for-lwe'></a>"
   ]
  },
  {
   "cell_type": "markdown",
   "id": "e8d67816",
   "metadata": {},
   "source": [
    "# Coded-BKW for LWE\n",
    "\n",
    "We construct an example LWE instance:"
   ]
  },
  {
   "cell_type": "code",
   "execution_count": null,
   "id": "6cbad270",
   "metadata": {
    "hide-output": false
   },
   "outputs": [],
   "source": [
    "from estimator import *\n",
    "params = LWEParameters(n=400, q=7981, Xs=ND.SparseTernary(384, 16), Xe=ND.CenteredBinomial(4), m=800)\n",
    "params"
   ]
  },
  {
   "cell_type": "markdown",
   "id": "35ddaa40",
   "metadata": {},
   "source": [
    "and estimate the cost of Coded-BKW [[C:GuoJohSta15]](../references.ipynb#c-guojohsta15), [[C:KirFou15]](../references.ipynb#c-kirfou15):"
   ]
  },
  {
   "cell_type": "code",
   "execution_count": null,
   "id": "3088f9f7",
   "metadata": {
    "hide-output": false
   },
   "outputs": [],
   "source": [
    "coded_bkw(params)"
   ]
  },
  {
   "cell_type": "markdown",
   "id": "eba71c55",
   "metadata": {},
   "source": [
    "All BKW variants require *a lot* of samples. As called above, the algorithm will produce the required samples from what it is given, which increases the noise. Let’s pretend we have as many as we like:"
   ]
  },
  {
   "cell_type": "code",
   "execution_count": null,
   "id": "274da73c",
   "metadata": {
    "hide-output": false
   },
   "outputs": [],
   "source": [
    "coded_bkw(params.updated(m=2**100))"
   ]
  }
 ],
 "metadata": {
  "date": 1639414846.8128486,
  "filename": "lwe-bkw.rst",
  "kernelspec": {
   "display_name": "SageMath",
   "language": "sage",
   "name": "sagemath"
  },
  "title": "Coded-BKW for LWE"
 },
 "nbformat": 4,
 "nbformat_minor": 5
}