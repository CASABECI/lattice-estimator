{
 "cells": [
  {
   "cell_type": "markdown",
   "id": "b43ff836",
   "metadata": {},
   "source": [
    "Notebook created: 2021-11-07 18:45:08  \n",
    "Generated from: doc/lwe-bkw.rst  "
   ]
  },
  {
   "cell_type": "markdown",
   "id": "72a33fa8",
   "metadata": {},
   "source": [
    "\n",
    "<a id='coded-bkw-for-lwe'></a>"
   ]
  },
  {
   "cell_type": "markdown",
   "id": "9b722637",
   "metadata": {},
   "source": [
    "# Coded-BKW for LWE\n",
    "\n",
    "We construct an example LWE instance:"
   ]
  },
  {
   "cell_type": "code",
   "execution_count": null,
   "id": "9b17e2b4",
   "metadata": {
    "hide-output": false
   },
   "outputs": [],
   "source": [
    "from estimator import *\n",
    "params = LWEParameters(n=400, q=7981, Xs=ND.SparseTernary(384, 16), Xe=ND.CenteredBinomial(4), m=800)\n",
    "params"
   ]
  },
  {
   "cell_type": "markdown",
   "id": "9f1cd2b3",
   "metadata": {},
   "source": [
    "and estimate the cost of Coded-BKW [C:GuoJohSta15], [C:KirFou15]:"
   ]
  },
  {
   "cell_type": "code",
   "execution_count": null,
   "id": "b3299ed3",
   "metadata": {
    "hide-output": false
   },
   "outputs": [],
   "source": [
    "coded_bkw(params)"
   ]
  },
  {
   "cell_type": "markdown",
   "id": "c7cb7af5",
   "metadata": {},
   "source": [
    "All BKW variants require *a lot* of samples. As called above, the algorithm will produce the required samples from what it is given, which increases the noise. Let’s pretend we have as many as we like:"
   ]
  },
  {
   "cell_type": "code",
   "execution_count": null,
   "id": "03498dc4",
   "metadata": {
    "hide-output": false
   },
   "outputs": [],
   "source": [
    "coded_bkw(params.updated(m=2**100))"
   ]
  }
 ],
 "metadata": {
  "date": 1636310708.954773,
  "filename": "lwe-bkw.rst",
  "kernelspec": {
   "display_name": "SageMath",
   "language": "sage",
   "name": "sagemath"
  },
  "title": "Coded-BKW for LWE"
 },
 "nbformat": 4,
 "nbformat_minor": 5
}