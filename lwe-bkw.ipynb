{
 "cells": [
  {
   "cell_type": "markdown",
   "id": "d62ce807",
   "metadata": {},
   "source": [
    "Notebook created: 2022-01-07 21:10:52  \n",
    "Generated from: docs/algorithms/lwe-bkw.rst  "
   ]
  },
  {
   "cell_type": "markdown",
   "id": "3c68fb0f",
   "metadata": {},
   "source": [
    "\n",
    "<a id='coded-bkw-for-lwe'></a>"
   ]
  },
  {
   "cell_type": "markdown",
   "id": "c9bdac25",
   "metadata": {},
   "source": [
    "# Coded-BKW for LWE\n",
    "\n",
    "We construct an example LWE instance:"
   ]
  },
  {
   "cell_type": "code",
   "execution_count": null,
   "id": "7620694c",
   "metadata": {
    "hide-output": false
   },
   "outputs": [],
   "source": [
    "from estimator import *\n",
    "params = LWE.Parameters(n=400, q=7981, Xs=ND.SparseTernary(384, 16), Xe=ND.CenteredBinomial(4), m=800)\n",
    "params"
   ]
  },
  {
   "cell_type": "markdown",
   "id": "45fd6506",
   "metadata": {},
   "source": [
    "and estimate the cost of Coded-BKW [[C:GuoJohSta15]](../references.ipynb#c-guojohsta15), [[C:KirFou15]](../references.ipynb#c-kirfou15):"
   ]
  },
  {
   "cell_type": "code",
   "execution_count": null,
   "id": "fb9c1b34",
   "metadata": {
    "hide-output": false
   },
   "outputs": [],
   "source": [
    "lwe.coded_bkw(params)"
   ]
  },
  {
   "cell_type": "markdown",
   "id": "00f4c636",
   "metadata": {},
   "source": [
    "All BKW variants require *a lot* of samples. As called above, the algorithm will produce the required samples from what it is given, which increases the noise. Let’s pretend we have as many as we like:"
   ]
  },
  {
   "cell_type": "code",
   "execution_count": null,
   "id": "bf8ef2fd",
   "metadata": {
    "hide-output": false
   },
   "outputs": [],
   "source": [
    "lwe.coded_bkw(params.updated(m=2**100))"
   ]
  }
 ],
 "metadata": {
  "date": 1641589852.9182925,
  "filename": "lwe-bkw.rst",
  "kernelspec": {
   "display_name": "SageMath",
   "language": "sage",
   "name": "sagemath"
  },
  "title": "Coded-BKW for LWE"
 },
 "nbformat": 4,
 "nbformat_minor": 5
}